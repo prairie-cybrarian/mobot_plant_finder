{
 "cells": [
  {
   "cell_type": "markdown",
   "metadata": {},
   "source": [
    "# About The Dataset Origin\n",
    "The Missouri Botanical Garden (MOBOT) hosts a convinent and comprehensive database called \"Plant Finder\": https://www.missouribotanicalgarden.org/plantfinder/plantfindersearch.aspx\n",
    "# About Retrieving the Dataset\n",
    "See the python script get_da_mobot.py\n",
    "# About Cleaning the Dataset\n",
    "See the python script transform_da_mobot.py\n",
    "# What we're going to do here\n",
    "1. Find broad trends in the dataset to understand the information is has to give\n",
    "2. Build queries and visualizations that are human brain-friendly to gather insights into some fun questions like \"What can I plant for a flower garden in zone 6 that is all red?\""
   ]
  },
  {
   "cell_type": "markdown",
   "metadata": {},
   "source": [
    "## Install and import libraries from the start"
   ]
  },
  {
   "cell_type": "code",
   "execution_count": 32,
   "metadata": {},
   "outputs": [
    {
     "name": "stdout",
     "output_type": "stream",
     "text": [
      "Requirement already satisfied: pip in /home/ejsurbecknyman/anaconda3/lib/python3.7/site-packages (20.3.3)\n",
      "Requirement already satisfied: numpy in /home/ejsurbecknyman/anaconda3/lib/python3.7/site-packages (1.17.2)\n",
      "Requirement already satisfied: scipy in /home/ejsurbecknyman/anaconda3/lib/python3.7/site-packages (1.3.1)\n",
      "Requirement already satisfied: pandas in /home/ejsurbecknyman/anaconda3/lib/python3.7/site-packages (0.25.1)\n",
      "Requirement already satisfied: pytz>=2017.2 in /home/ejsurbecknyman/anaconda3/lib/python3.7/site-packages (from pandas) (2019.3)\n",
      "Requirement already satisfied: python-dateutil>=2.6.1 in /home/ejsurbecknyman/anaconda3/lib/python3.7/site-packages (from pandas) (2.8.0)\n",
      "Requirement already satisfied: numpy>=1.13.3 in /home/ejsurbecknyman/anaconda3/lib/python3.7/site-packages (from pandas) (1.17.2)\n",
      "Requirement already satisfied: six>=1.5 in /home/ejsurbecknyman/anaconda3/lib/python3.7/site-packages (from python-dateutil>=2.6.1->pandas) (1.12.0)\n",
      "Requirement already satisfied: plotly in /home/ejsurbecknyman/anaconda3/lib/python3.7/site-packages (4.9.0)\n",
      "Requirement already satisfied: retrying>=1.3.3 in /home/ejsurbecknyman/anaconda3/lib/python3.7/site-packages (from plotly) (1.3.3)\n",
      "Requirement already satisfied: six in /home/ejsurbecknyman/anaconda3/lib/python3.7/site-packages (from plotly) (1.12.0)\n",
      "Requirement already satisfied: chart_studio in /home/ejsurbecknyman/anaconda3/lib/python3.7/site-packages (1.1.0)\n",
      "Requirement already satisfied: retrying>=1.3.3 in /home/ejsurbecknyman/anaconda3/lib/python3.7/site-packages (from chart_studio) (1.3.3)\n",
      "Requirement already satisfied: six in /home/ejsurbecknyman/anaconda3/lib/python3.7/site-packages (from chart_studio) (1.12.0)\n",
      "Requirement already satisfied: plotly in /home/ejsurbecknyman/anaconda3/lib/python3.7/site-packages (from chart_studio) (4.9.0)\n",
      "Requirement already satisfied: requests in /home/ejsurbecknyman/anaconda3/lib/python3.7/site-packages (from chart_studio) (2.22.0)\n",
      "Requirement already satisfied: certifi>=2017.4.17 in /home/ejsurbecknyman/anaconda3/lib/python3.7/site-packages (from requests->chart_studio) (2019.9.11)\n",
      "Requirement already satisfied: chardet<3.1.0,>=3.0.2 in /home/ejsurbecknyman/anaconda3/lib/python3.7/site-packages (from requests->chart_studio) (3.0.4)\n",
      "Requirement already satisfied: urllib3!=1.25.0,!=1.25.1,<1.26,>=1.21.1 in /home/ejsurbecknyman/anaconda3/lib/python3.7/site-packages (from requests->chart_studio) (1.24.2)\n",
      "Requirement already satisfied: idna<2.9,>=2.5 in /home/ejsurbecknyman/anaconda3/lib/python3.7/site-packages (from requests->chart_studio) (2.8)\n",
      "Requirement already satisfied: matplotlib in /home/ejsurbecknyman/anaconda3/lib/python3.7/site-packages (3.1.1)\n",
      "Requirement already satisfied: cycler>=0.10 in /home/ejsurbecknyman/anaconda3/lib/python3.7/site-packages (from matplotlib) (0.10.0)\n",
      "Requirement already satisfied: kiwisolver>=1.0.1 in /home/ejsurbecknyman/anaconda3/lib/python3.7/site-packages (from matplotlib) (1.1.0)\n",
      "Requirement already satisfied: pyparsing!=2.0.4,!=2.1.2,!=2.1.6,>=2.0.1 in /home/ejsurbecknyman/anaconda3/lib/python3.7/site-packages (from matplotlib) (2.4.2)\n",
      "Requirement already satisfied: python-dateutil>=2.1 in /home/ejsurbecknyman/anaconda3/lib/python3.7/site-packages (from matplotlib) (2.8.0)\n",
      "Requirement already satisfied: numpy>=1.11 in /home/ejsurbecknyman/anaconda3/lib/python3.7/site-packages (from matplotlib) (1.17.2)\n",
      "Requirement already satisfied: six in /home/ejsurbecknyman/anaconda3/lib/python3.7/site-packages (from cycler>=0.10->matplotlib) (1.12.0)\n",
      "Requirement already satisfied: setuptools in /home/ejsurbecknyman/anaconda3/lib/python3.7/site-packages (from kiwisolver>=1.0.1->matplotlib) (41.4.0)\n"
     ]
    }
   ],
   "source": [
    "import sys\n",
    "\n",
    "import requests\n",
    "\n",
    "!{sys.executable} -m pip install --upgrade pip\n",
    "!{sys.executable} -m pip install numpy\n",
    "!{sys.executable} -m pip install scipy\n",
    "!{sys.executable} -m pip install pandas\n",
    "!{sys.executable} -m pip install plotly\n",
    "!{sys.executable} -m pip install chart_studio \n",
    "!{sys.executable} -m pip install matplotlib\n",
    "\n",
    "import numpy as np\n",
    "import pandas as pd\n",
    "import chart_studio as py\n",
    "from matplotlib import pyplot as plt"
   ]
  },
  {
   "cell_type": "markdown",
   "metadata": {},
   "source": [
    "## Bring in the csv file we created from scrapping and cleaning the HTML from MOBOT's site and let's take a look"
   ]
  },
  {
   "cell_type": "code",
   "execution_count": 33,
   "metadata": {},
   "outputs": [],
   "source": [
    "df = pd.read_csv(\"./plants_mobot.csv\")"
   ]
  },
  {
   "cell_type": "markdown",
   "metadata": {},
   "source": [
    "### We need to make a point of being sure every single row as a unique identifier so the following uses the family name, the formal name, and the common name to do it"
   ]
  },
  {
   "cell_type": "code",
   "execution_count": 34,
   "metadata": {},
   "outputs": [],
   "source": [
    "df = df.assign(id=(df['Family'].str.lower().replace(' ', '_') +df['Formal Name'].str.lower().replace(' ', '_') + '_' + df['Common Name'].str.lower().replace(' ', '_')).astype('category').cat.codes)"
   ]
  },
  {
   "cell_type": "markdown",
   "metadata": {},
   "source": [
    "### Let's check the number of rows. If we managed to get a truely unique id for each instance, there should be  same number of ids as rows"
   ]
  },
  {
   "cell_type": "code",
   "execution_count": 35,
   "metadata": {},
   "outputs": [
    {
     "data": {
      "text/plain": [
       "8145"
      ]
     },
     "execution_count": 35,
     "metadata": {},
     "output_type": "execute_result"
    }
   ],
   "source": [
    "index = df. index\n",
    "number_of_rows = len(index) #find length of index.\n",
    "number_of_rows"
   ]
  },
  {
   "cell_type": "markdown",
   "metadata": {},
   "source": [
    "#### 7952 is our number of rows and below we see the same number for the unique count of ids. We have a unique column in addition to the index."
   ]
  },
  {
   "cell_type": "code",
   "execution_count": 36,
   "metadata": {},
   "outputs": [
    {
     "data": {
      "text/plain": [
       "8145"
      ]
     },
     "execution_count": 36,
     "metadata": {},
     "output_type": "execute_result"
    }
   ],
   "source": [
    "df['id'].nunique()"
   ]
  },
  {
   "cell_type": "markdown",
   "metadata": {},
   "source": [
    "#### We are also dealing with some issues that will be problems in the upcoming data transformations. Code needs data types to be exact. Python, unlike something like Java, handles data types automatically more or less. But that isn't useful if a dataframe as a data type as an \"object\" and we need to do something like use a string based boolean query."
   ]
  },
  {
   "cell_type": "code",
   "execution_count": 37,
   "metadata": {},
   "outputs": [
    {
     "data": {
      "text/plain": [
       "Attracts                       object\n",
       "Bloom Description              object\n",
       "Bloom Time                     object\n",
       "Common Name                    object\n",
       "Culture                       float64\n",
       "Family                         object\n",
       "Flower                         object\n",
       "Formal Name                    object\n",
       "Fruit                          object\n",
       "Garden Uses                   float64\n",
       "Height                         object\n",
       "Invasive                       object\n",
       "Leaf                           object\n",
       "Maintenance                    object\n",
       "Native Range                   object\n",
       "Noteworthy Characteristics    float64\n",
       "Other                          object\n",
       "Problems                      float64\n",
       "Spread                         object\n",
       "Suggested Use                  object\n",
       "Sun                            object\n",
       "Tolerate                       object\n",
       "Type                           object\n",
       "Water                          object\n",
       "Zone                           object\n",
       "id                              int16\n",
       "dtype: object"
      ]
     },
     "execution_count": 37,
     "metadata": {},
     "output_type": "execute_result"
    }
   ],
   "source": [
    "df.dtypes"
   ]
  },
  {
   "cell_type": "code",
   "execution_count": 38,
   "metadata": {},
   "outputs": [],
   "source": [
    "df['Attracts'] = df['Attracts'].astype(str)\n",
    "df['Bloom_Description'] = df['Bloom Description'].astype(str)\n",
    "df['Bloom_Time'] = df['Bloom Time'].astype(str)\n",
    "df['Common_Name'] = df['Common Name'].astype(str)\n",
    "df['Culture'] = df['Culture'].astype(str)\n",
    "df['Family'] = df['Family'].astype(str)\n",
    "df['Flower'] = df['Flower'].astype(str)\n",
    "df['Formal_Name'] = df['Formal Name'].astype(str)\n",
    "df['Fruit'] = df['Fruit'].astype(str)\n",
    "df['Garden_Uses'] = df['Garden Uses'].astype(str)\n",
    "df['Height'] = df['Height'].astype(str)\n",
    "df['Invasive'] = df['Invasive'].astype(str)\n",
    "df['Leaf'] = df['Leaf'].astype(str)\n",
    "df['Maintenance'] = df['Maintenance'].astype(str)\n",
    "df['Native_Range'] = df['Native Range'].astype(str)\n",
    "df['Noteworthy_Characteristics'] = df['Noteworthy Characteristics'].astype(str)\n",
    "df['Other'] = df['Other'].astype(str)\n",
    "df['Problems'] = df['Problems'].astype(str)\n",
    "df['Spread'] = df['Spread'].astype(str)\n",
    "df['Suggested_Use'] = df['Suggested Use'].astype(str)\n",
    "df['Sun'] = df['Sun'].astype(str)\n",
    "df['Tolerate'] = df['Tolerate'].astype(str)\n",
    "df['Type'] = df['Type'].astype(str)\n",
    "df['Water'] = df['Water'].astype(str)\n",
    "df['Zone'] = df['Zone'].astype(str)"
   ]
  },
  {
   "cell_type": "markdown",
   "metadata": {},
   "source": [
    "We also see in the dataset several messy columns for the purposes of exploring the dataset.\n",
    "\n",
    "Code is based on hard rules. Human language is not. We for examplehave strings like \"Deer\" and \"Drought\" in the column called \"Tolerate\" . We also have strings like \"Clay Soil\" and \"Wet Soil\". So we cannot separate these strings by just saying we need to split this by space. There are more rules to create. Ultimately, I took this entire column, and narrowed the possible strings down to just 11 possibilities. They are 'Air Pollution', 'Black Walnut', 'Clay Soil', 'Dry Soil', 'Wet Soil', 'Deer', 'ShallowRocky Soil', 'Drought', 'Erosion', 'Heavy Shade', and 'Rabbit'. Even if we were to go to the Plant Finder page and essentially see these exact same words, they are completely the same and in order for the code to understand what we what, what we ask and what it has needs to be exactly the same.\n",
    "\n",
    "Another \"problem\" column is Zone. The human brain can read an entry in that column that may say \"6 to 9\" and automatically we are processing \"Ah, so this applies to zones 6, 7, 8, and 9\". However, Python doesn't automatically do that. If we were to try to find the number of plants and group them by zones, we wouldn't get neat rows of single numbers, but whatever ranges has been entered into the data.\n",
    "\n",
    "For the \"Tolerate\" column, this will take literally just looking at the data. I sometimes like to take a look at it in a text editor. Sometimes even Excel just to get grounded because the data is spaced out and easier to read.\n",
    "\n",
    "For the \"Zone\" column, this can be looked at in a more automated way."
   ]
  },
  {
   "cell_type": "code",
   "execution_count": 39,
   "metadata": {},
   "outputs": [],
   "source": [
    "#The following takes the Zone column and makes it into a delimited list of zones from the range provided\n",
    "\n",
    "#Set up a list for the new zone column. Data maintainance rules typically do not encourage destroying \n",
    "#columns that need to be cleaned. They rather encourage new columns to be created along the same index with the new\n",
    "#data.\n",
    "full_list_of_zones = []\n",
    "\n",
    "for row in df['Zone']:\n",
    "    #looping through each instance in the column, we want to take out the leading white space and the ' to ' string\n",
    "    #in the middle of the data entry\n",
    "    zone_range_list = row.lstrip(' ').split(' to ')\n",
    "    #in order to count, this list needs to be set as numbers. They are still strings\n",
    "    zone_range_list = [ int(x) for x in zone_range_list ]\n",
    "    #using range in Python, we can pull together a full list of the numbers possible in just one line\n",
    "    full_zone_range_list = [*range(zone_range_list[0],zone_range_list[-1]+1,1)]\n",
    "    #now we add that new list to the empty list we had created\n",
    "    full_list_of_zones.append(full_zone_range_list)\n",
    "\n",
    "\n",
    "#We now have a list of values that are in the exact order and perfect size for the dataframe.\n",
    "#We can now just declare the list to be a new column, which is automatically placed at the end\n",
    "#We will also make it a string for now anyway for the purposes of using it for querying later with the other columns\n",
    "df['Zone_List'] = full_list_of_zones\n"
   ]
  },
  {
   "cell_type": "markdown",
   "metadata": {},
   "source": [
    "### Checking the work just in case"
   ]
  },
  {
   "cell_type": "code",
   "execution_count": 40,
   "metadata": {},
   "outputs": [
    {
     "data": {
      "text/html": [
       "<div>\n",
       "<style scoped>\n",
       "    .dataframe tbody tr th:only-of-type {\n",
       "        vertical-align: middle;\n",
       "    }\n",
       "\n",
       "    .dataframe tbody tr th {\n",
       "        vertical-align: top;\n",
       "    }\n",
       "\n",
       "    .dataframe thead th {\n",
       "        text-align: right;\n",
       "    }\n",
       "</style>\n",
       "<table border=\"1\" class=\"dataframe\">\n",
       "  <thead>\n",
       "    <tr style=\"text-align: right;\">\n",
       "      <th></th>\n",
       "      <th>Attracts</th>\n",
       "      <th>Bloom Description</th>\n",
       "      <th>Bloom Time</th>\n",
       "      <th>Common Name</th>\n",
       "      <th>Culture</th>\n",
       "      <th>Family</th>\n",
       "      <th>Flower</th>\n",
       "      <th>Formal Name</th>\n",
       "      <th>Fruit</th>\n",
       "      <th>Garden Uses</th>\n",
       "      <th>...</th>\n",
       "      <th>id</th>\n",
       "      <th>Bloom_Description</th>\n",
       "      <th>Bloom_Time</th>\n",
       "      <th>Common_Name</th>\n",
       "      <th>Formal_Name</th>\n",
       "      <th>Garden_Uses</th>\n",
       "      <th>Native_Range</th>\n",
       "      <th>Noteworthy_Characteristics</th>\n",
       "      <th>Suggested_Use</th>\n",
       "      <th>Zone_List</th>\n",
       "    </tr>\n",
       "  </thead>\n",
       "  <tbody>\n",
       "    <tr>\n",
       "      <td>4691</td>\n",
       "      <td>Butterflies</td>\n",
       "      <td>Pale pink to dark purple</td>\n",
       "      <td>July to September</td>\n",
       "      <td>coastal plain joe pye weed</td>\n",
       "      <td>nan</td>\n",
       "      <td>Asteraceae</td>\n",
       "      <td>Showy Fragrant</td>\n",
       "      <td>Eutrochium dubium</td>\n",
       "      <td>Showy</td>\n",
       "      <td>NaN</td>\n",
       "      <td>...</td>\n",
       "      <td>1621</td>\n",
       "      <td>Pale pink to dark purple</td>\n",
       "      <td>July to September</td>\n",
       "      <td>coastal plain joe pye weed</td>\n",
       "      <td>Eutrochium dubium</td>\n",
       "      <td>nan</td>\n",
       "      <td>Eastern North America</td>\n",
       "      <td>nan</td>\n",
       "      <td>Rain Garden</td>\n",
       "      <td>[3, 4, 5, 6, 7, 8, 9]</td>\n",
       "    </tr>\n",
       "    <tr>\n",
       "      <td>1070</td>\n",
       "      <td>Birds Hummingbirds Butterflies</td>\n",
       "      <td>Pale yellow</td>\n",
       "      <td>February to March</td>\n",
       "      <td>Japanese witch hazel</td>\n",
       "      <td>nan</td>\n",
       "      <td>Hamamelidaceae</td>\n",
       "      <td>Showy</td>\n",
       "      <td>Hamamelis japonica var obtusata</td>\n",
       "      <td>Showy</td>\n",
       "      <td>NaN</td>\n",
       "      <td>...</td>\n",
       "      <td>4115</td>\n",
       "      <td>Pale yellow</td>\n",
       "      <td>February to March</td>\n",
       "      <td>Japanese witch hazel</td>\n",
       "      <td>Hamamelis japonica var obtusata</td>\n",
       "      <td>nan</td>\n",
       "      <td>Japan</td>\n",
       "      <td>nan</td>\n",
       "      <td>Hedge</td>\n",
       "      <td>[5, 6, 7, 8]</td>\n",
       "    </tr>\n",
       "    <tr>\n",
       "      <td>1138</td>\n",
       "      <td>Birds</td>\n",
       "      <td>Most colors except green</td>\n",
       "      <td>Seasonal bloomer</td>\n",
       "      <td>polyanthus</td>\n",
       "      <td>nan</td>\n",
       "      <td>Primulaceae</td>\n",
       "      <td>Showy</td>\n",
       "      <td>Primula polyanthus type</td>\n",
       "      <td>Showy</td>\n",
       "      <td>NaN</td>\n",
       "      <td>...</td>\n",
       "      <td>6495</td>\n",
       "      <td>Most colors except green</td>\n",
       "      <td>Seasonal bloomer</td>\n",
       "      <td>polyanthus</td>\n",
       "      <td>Primula polyanthus type</td>\n",
       "      <td>nan</td>\n",
       "      <td>Southern China Taiwan</td>\n",
       "      <td>nan</td>\n",
       "      <td>Annual Ground Cover</td>\n",
       "      <td>[5, 6, 7]</td>\n",
       "    </tr>\n",
       "    <tr>\n",
       "      <td>4995</td>\n",
       "      <td>Hummingbirds</td>\n",
       "      <td>Yellow tinged with purple</td>\n",
       "      <td>May to June</td>\n",
       "      <td>sweet spurge</td>\n",
       "      <td>nan</td>\n",
       "      <td>Euphorbiaceae</td>\n",
       "      <td>Showy</td>\n",
       "      <td>Euphorbia dulcis</td>\n",
       "      <td>Showy</td>\n",
       "      <td>NaN</td>\n",
       "      <td>...</td>\n",
       "      <td>3653</td>\n",
       "      <td>Yellow tinged with purple</td>\n",
       "      <td>May to June</td>\n",
       "      <td>sweet spurge</td>\n",
       "      <td>Euphorbia dulcis</td>\n",
       "      <td>nan</td>\n",
       "      <td>Europe</td>\n",
       "      <td>nan</td>\n",
       "      <td>Annual</td>\n",
       "      <td>[5, 6, 7, 8]</td>\n",
       "    </tr>\n",
       "    <tr>\n",
       "      <td>7294</td>\n",
       "      <td>Butterflies</td>\n",
       "      <td>Indigo blue</td>\n",
       "      <td>May to June</td>\n",
       "      <td>blue false indigo</td>\n",
       "      <td>nan</td>\n",
       "      <td>Fabaceae</td>\n",
       "      <td>Showy</td>\n",
       "      <td>Baptisia australis</td>\n",
       "      <td>Showy</td>\n",
       "      <td>NaN</td>\n",
       "      <td>...</td>\n",
       "      <td>3696</td>\n",
       "      <td>Indigo blue</td>\n",
       "      <td>May to June</td>\n",
       "      <td>blue false indigo</td>\n",
       "      <td>Baptisia australis</td>\n",
       "      <td>nan</td>\n",
       "      <td>Eastern United States</td>\n",
       "      <td>nan</td>\n",
       "      <td>Naturalize</td>\n",
       "      <td>[3, 4, 5, 6, 7, 8, 9]</td>\n",
       "    </tr>\n",
       "  </tbody>\n",
       "</table>\n",
       "<p>5 rows × 35 columns</p>\n",
       "</div>"
      ],
      "text/plain": [
       "                             Attracts           Bloom Description  \\\n",
       "4691                      Butterflies    Pale pink to dark purple   \n",
       "1070   Birds Hummingbirds Butterflies                 Pale yellow   \n",
       "1138                            Birds    Most colors except green   \n",
       "4995                     Hummingbirds   Yellow tinged with purple   \n",
       "7294                      Butterflies                 Indigo blue   \n",
       "\n",
       "              Bloom Time                  Common Name Culture  \\\n",
       "4691   July to September   coastal plain joe pye weed     nan   \n",
       "1070   February to March         Japanese witch hazel     nan   \n",
       "1138    Seasonal bloomer                   polyanthus     nan   \n",
       "4995         May to June                 sweet spurge     nan   \n",
       "7294         May to June            blue false indigo     nan   \n",
       "\n",
       "               Family           Flower                      Formal Name  \\\n",
       "4691       Asteraceae   Showy Fragrant                Eutrochium dubium   \n",
       "1070   Hamamelidaceae            Showy  Hamamelis japonica var obtusata   \n",
       "1138      Primulaceae            Showy          Primula polyanthus type   \n",
       "4995    Euphorbiaceae            Showy                 Euphorbia dulcis   \n",
       "7294         Fabaceae            Showy               Baptisia australis   \n",
       "\n",
       "       Fruit  Garden Uses  ...    id           Bloom_Description  \\\n",
       "4691   Showy          NaN  ...  1621    Pale pink to dark purple   \n",
       "1070   Showy          NaN  ...  4115                 Pale yellow   \n",
       "1138   Showy          NaN  ...  6495    Most colors except green   \n",
       "4995   Showy          NaN  ...  3653   Yellow tinged with purple   \n",
       "7294   Showy          NaN  ...  3696                 Indigo blue   \n",
       "\n",
       "              Bloom_Time                  Common_Name  \\\n",
       "4691   July to September   coastal plain joe pye weed   \n",
       "1070   February to March         Japanese witch hazel   \n",
       "1138    Seasonal bloomer                   polyanthus   \n",
       "4995         May to June                 sweet spurge   \n",
       "7294         May to June            blue false indigo   \n",
       "\n",
       "                          Formal_Name  Garden_Uses            Native_Range  \\\n",
       "4691                Eutrochium dubium          nan   Eastern North America   \n",
       "1070  Hamamelis japonica var obtusata          nan                   Japan   \n",
       "1138          Primula polyanthus type          nan   Southern China Taiwan   \n",
       "4995                 Euphorbia dulcis          nan                  Europe   \n",
       "7294               Baptisia australis          nan   Eastern United States   \n",
       "\n",
       "     Noteworthy_Characteristics         Suggested_Use              Zone_List  \n",
       "4691                        nan           Rain Garden  [3, 4, 5, 6, 7, 8, 9]  \n",
       "1070                        nan                 Hedge           [5, 6, 7, 8]  \n",
       "1138                        nan   Annual Ground Cover              [5, 6, 7]  \n",
       "4995                        nan                Annual           [5, 6, 7, 8]  \n",
       "7294                        nan            Naturalize  [3, 4, 5, 6, 7, 8, 9]  \n",
       "\n",
       "[5 rows x 35 columns]"
      ]
     },
     "execution_count": 40,
     "metadata": {},
     "output_type": "execute_result"
    }
   ],
   "source": [
    "df.sample(5)"
   ]
  },
  {
   "cell_type": "markdown",
   "metadata": {},
   "source": [
    "## Let's take a look at the broad trends in the data to get a grip about the information"
   ]
  },
  {
   "cell_type": "markdown",
   "metadata": {},
   "source": [
    "---\n",
    "**NOTE**\n",
    "The most basic thing we can do in Pandas is use the summarization tools the library provides. In some cases, the number of options for something like an x axis of a bar chart are simply too many, so we can cut it down by only looking at cases. The top 10 for the columns we will be exploring. For Pandas, we can do that with \"nlargest\". Other methods could work though like finding the median or mean and using that to filter \"top\" values.\n",
    "\n",
    "---"
   ]
  },
  {
   "cell_type": "markdown",
   "metadata": {},
   "source": [
    "## Let's start with the plant families we have to work with. What are the most abuntent families in terms of information MOBOT has?"
   ]
  },
  {
   "cell_type": "code",
   "execution_count": 41,
   "metadata": {},
   "outputs": [],
   "source": [
    "family_distribution = pd.DataFrame({'count' : df.groupby( [\"Family\"] ).size()}).sort_values('count', ascending=False).reset_index()"
   ]
  },
  {
   "cell_type": "code",
   "execution_count": 42,
   "metadata": {},
   "outputs": [],
   "source": [
    "family_distribution = family_distribution.sort_values(['count'], ascending=False).head(5)"
   ]
  },
  {
   "cell_type": "code",
   "execution_count": 43,
   "metadata": {},
   "outputs": [
    {
     "data": {
      "image/png": "[encoded data removed]",
      "text/plain": [
       "<Figure size 432x288 with 1 Axes>"
      ]
     },
     "metadata": {
      "needs_background": "light"
     },
     "output_type": "display_data"
    }
   ],
   "source": [
    "x = family_distribution['Family'] \n",
    "y = family_distribution['count']\n",
    "\n",
    "plt.bar(x, y)\n",
    "\n",
    "plt.show()"
   ]
  },
  {
   "cell_type": "markdown",
   "metadata": {},
   "source": [
    "## MOBOT has the most plants in its Plant Finder hailing from the Asteraceae Family, also known as the \"Daisy Family\". This is followed by the Rosaceae Family, the \"Rose Family\". Given MOBOT has a part of the garden dedicated soley to roses, this isn't surprising for that alone!"
   ]
  },
  {
   "cell_type": "markdown",
   "metadata": {},
   "source": [
    "## Let's look at suggested uses next. What are these plants in the Plant Finder most likely going to be used for?"
   ]
  },
  {
   "cell_type": "code",
   "execution_count": 44,
   "metadata": {},
   "outputs": [],
   "source": [
    "suggested_use_distribution = pd.DataFrame({'count' : df.groupby( ['Suggested Use'] ).size()}).sort_values('count', ascending=False).reset_index()"
   ]
  },
  {
   "cell_type": "code",
   "execution_count": 45,
   "metadata": {},
   "outputs": [],
   "source": [
    "suggested_use_distribution = suggested_use_distribution.sort_values(['count'], ascending=False).head(10)"
   ]
  },
  {
   "cell_type": "code",
   "execution_count": 58,
   "metadata": {
    "scrolled": true
   },
   "outputs": [
    {
     "data": {
      "image/png": "[encoded data removed]",
      "text/plain": [
       "<Figure size 432x288 with 1 Axes>"
      ]
     },
     "metadata": {
      "needs_background": "light"
     },
     "output_type": "display_data"
    }
   ],
   "source": [
    "x = suggested_use_distribution['Suggested Use'] \n",
    "y = suggested_use_distribution['count']\n",
    "\n",
    "plt.bar(x, y)\n",
    "\n",
    "plt.xticks(rotation=90)\n",
    "\n",
    "plt.show()\n"
   ]
  },
  {
   "cell_type": "markdown",
   "metadata": {},
   "source": [
    "## Hedges are the most common! How....common? However, we can see there's also quite a few options for rain gardens. And over 500 annuals!"
   ]
  },
  {
   "cell_type": "markdown",
   "metadata": {},
   "source": [
    "## MOBOT has experts in plants from all over the world. Where are most of those plants they have knowledge of from in the Plant finder?"
   ]
  },
  {
   "cell_type": "code",
   "execution_count": 53,
   "metadata": {},
   "outputs": [],
   "source": [
    "native_range_distribution = pd.DataFrame({'count' : df.groupby( ['Native Range'] ).size()}).sort_values('count', ascending=False).reset_index()\n"
   ]
  },
  {
   "cell_type": "code",
   "execution_count": 54,
   "metadata": {},
   "outputs": [],
   "source": [
    "native_range_distribution = native_range_distribution.sort_values(['count'], ascending=False).head(10)"
   ]
  },
  {
   "cell_type": "code",
   "execution_count": 57,
   "metadata": {},
   "outputs": [
    {
     "data": {
      "image/png": "[encoded data removed]",
      "text/plain": [
       "<Figure size 432x288 with 1 Axes>"
      ]
     },
     "metadata": {
      "needs_background": "light"
     },
     "output_type": "display_data"
    }
   ],
   "source": [
    "x = native_range_distribution['Native Range']\n",
    "y = native_range_distribution['count']\n",
    "\n",
    "plt.bar(x, y)\n",
    "\n",
    "plt.xticks(rotation=90)\n",
    "\n",
    "plt.show()\n"
   ]
  },
  {
   "cell_type": "markdown",
   "metadata": {},
   "source": [
    "## Unsurprisingly, an American botanical garden in Missouri has most plants from the Americas. Japanese and Chinese plants holding the fifth and sixth spots respectively is interesting, but unsprizing! Large chunks of MOBOT's garden is dedicated to these countries."
   ]
  },
  {
   "cell_type": "markdown",
   "metadata": {},
   "source": [
    "## The United States Department of Agriculture (USDA) classifies different parts of the United States in plant hardiness zones that note the particular climate is in that part of the United States and help gardeners and farmers figure out what they can grow and where. \n"
   ]
  },
  {
   "cell_type": "markdown",
   "metadata": {},
   "source": [
    "---\n",
    "**NOTE**\n",
    "You can find out your zone with your zip code here at the USDA's website for plant hardiness zones: https://planthardiness.ars.usda.gov/PHZMWeb/ \n",
    "\n",
    "---"
   ]
  },
  {
   "cell_type": "code",
   "execution_count": 59,
   "metadata": {},
   "outputs": [],
   "source": [
    "lst_col = 'Zone_List'\n",
    "zones_unpacked = pd.DataFrame({\n",
    "      col:np.repeat(df[col].values, df[lst_col].str.len())\n",
    "      for col in df.columns.drop(lst_col)}\n",
    "    ).assign(**{lst_col:np.concatenate(df[lst_col].values)})[df.columns]"
   ]
  },
  {
   "cell_type": "code",
   "execution_count": 60,
   "metadata": {},
   "outputs": [],
   "source": [
    "zone_distribution = pd.DataFrame({'count' : zones_unpacked.groupby( ['Zone_List'] ).size()}).sort_values('count', ascending=False).reset_index()"
   ]
  },
  {
   "cell_type": "code",
   "execution_count": 63,
   "metadata": {},
   "outputs": [
    {
     "data": {
      "image/png": "[encoded data removed]",
      "text/plain": [
       "<Figure size 432x288 with 1 Axes>"
      ]
     },
     "metadata": {
      "needs_background": "light"
     },
     "output_type": "display_data"
    }
   ],
   "source": [
    "x = zone_distribution['Zone_List']\n",
    "y = zone_distribution['count']\n",
    "\n",
    "plt.bar(x, y)\n",
    "\n",
    "plt.show()\n"
   ]
  },
  {
   "cell_type": "markdown",
   "metadata": {},
   "source": [
    "## The most common are from zones that are right in the middle. \n",
    "## According to the USDA's Plant Hardiness website, MOBOT's zipcode says it is in zone 6. "
   ]
  },
  {
   "cell_type": "markdown",
   "metadata": {},
   "source": [
    "# But I have some questions now!\n",
    "\n",
    "## So let's get to them.\n",
    "\n",
    "1. In zone 6, what kind of read flowering plants can I plant?\n",
    "2. Additionally, what are going to be hardy to plant?"
   ]
  },
  {
   "cell_type": "code",
   "execution_count": 64,
   "metadata": {},
   "outputs": [],
   "source": [
    "q2_df = df.query('Bloom_Description.str.contains(\"Red\").values')"
   ]
  },
  {
   "cell_type": "code",
   "execution_count": 65,
   "metadata": {},
   "outputs": [
    {
     "data": {
      "text/plain": [
       "450"
      ]
     },
     "execution_count": 65,
     "metadata": {},
     "output_type": "execute_result"
    }
   ],
   "source": [
    "q2_df['id'].count()"
   ]
  },
  {
   "cell_type": "markdown",
   "metadata": {},
   "source": [
    "### MOBOT has a data on exactly what kind of Flowering a plant has. In this case, we just want anything that is NOT \"nonflowering\". That is why we're using the \"~\" in front. So give us all the flowers!"
   ]
  },
  {
   "cell_type": "code",
   "execution_count": 66,
   "metadata": {},
   "outputs": [],
   "source": [
    "q2_df = q2_df.query('~Flower.str.contains(\"nonFlowering\").values')"
   ]
  },
  {
   "cell_type": "code",
   "execution_count": 67,
   "metadata": {},
   "outputs": [
    {
     "data": {
      "text/plain": [
       "450"
      ]
     },
     "execution_count": 67,
     "metadata": {},
     "output_type": "execute_result"
    }
   ],
   "source": [
    "q2_df['id'].count()"
   ]
  },
  {
   "cell_type": "markdown",
   "metadata": {},
   "source": [
    "### Finally, we know that is matters where we are going to plant them. Let's say we're local to the MOBOT and live in St. Louis, MO. So according to the USDA we are in the plant hardiness zone, 6. So let's just look at the black flowers that can grow well there."
   ]
  },
  {
   "cell_type": "code",
   "execution_count": 68,
   "metadata": {},
   "outputs": [],
   "source": [
    "q2_df['Zone_List'] = q2_df['Zone_List'].astype(str)"
   ]
  },
  {
   "cell_type": "code",
   "execution_count": 69,
   "metadata": {},
   "outputs": [],
   "source": [
    "q2_df = q2_df.query('Zone_List.str.contains(\"6\").values')"
   ]
  },
  {
   "cell_type": "code",
   "execution_count": 70,
   "metadata": {
    "scrolled": false
   },
   "outputs": [
    {
     "data": {
      "text/plain": [
       "359"
      ]
     },
     "execution_count": 70,
     "metadata": {},
     "output_type": "execute_result"
    }
   ],
   "source": [
    "q2_df['id'].count()"
   ]
  },
  {
   "cell_type": "markdown",
   "metadata": {},
   "source": [
    "### Some more things that I want...low maintaince. I want \"showy\" flowers that I can cut and use for a bouquet. And I don't want to them to need a lot of water"
   ]
  },
  {
   "cell_type": "code",
   "execution_count": 71,
   "metadata": {},
   "outputs": [],
   "source": [
    "q2_df = q2_df.query('Maintenance.str.contains(\"Low\").values')\n",
    "q2_df = q2_df.query('Flower.str.contains(\"Showy\").values')\n",
    "q2_df = q2_df.query('Flower.str.contains(\"Fragrant\").values')\n",
    "q2_df = q2_df.query('Flower.str.contains(\"Cut\").values')\n",
    "q2_df = q2_df.query('~Water.str.contains(\"Wet\").values')\n",
    "q2_df = q2_df.query('~Water.str.contains(\"wet\").values')\n",
    "q2_df = q2_df.query('~Water.str.contains(\"Water\").values')"
   ]
  },
  {
   "cell_type": "code",
   "execution_count": 72,
   "metadata": {
    "scrolled": true
   },
   "outputs": [
    {
     "data": {
      "text/plain": [
       "11"
      ]
     },
     "execution_count": 72,
     "metadata": {},
     "output_type": "execute_result"
    }
   ],
   "source": [
    "q2_df['id'].count()"
   ]
  },
  {
   "cell_type": "markdown",
   "metadata": {},
   "source": [
    "### It isn't terribly surprising we haven't narrowed down our search too much. We already know from looking at the broader trends in the data at moderate zones like 6 are abundant in the MOBOT Plant Finder dataset. 20 still gives us a selection. So let's take a look at it!"
   ]
  },
  {
   "cell_type": "markdown",
   "metadata": {},
   "source": [
    "#### What can I plant for a showy, fragrant, low-maintenance flower garden that is all red in the St. Louis, MO region?"
   ]
  },
  {
   "cell_type": "code",
   "execution_count": 75,
   "metadata": {},
   "outputs": [
    {
     "data": {
      "text/html": [
       "<div>\n",
       "<style scoped>\n",
       "    .dataframe tbody tr th:only-of-type {\n",
       "        vertical-align: middle;\n",
       "    }\n",
       "\n",
       "    .dataframe tbody tr th {\n",
       "        vertical-align: top;\n",
       "    }\n",
       "\n",
       "    .dataframe thead th {\n",
       "        text-align: right;\n",
       "    }\n",
       "</style>\n",
       "<table border=\"1\" class=\"dataframe\">\n",
       "  <thead>\n",
       "    <tr style=\"text-align: right;\">\n",
       "      <th></th>\n",
       "      <th>Common Name</th>\n",
       "      <th>Formal Name</th>\n",
       "      <th>Flower</th>\n",
       "      <th>Native Range</th>\n",
       "      <th>Sun</th>\n",
       "      <th>Water</th>\n",
       "      <th>Suggested Use</th>\n",
       "      <th>Maintenance</th>\n",
       "    </tr>\n",
       "  </thead>\n",
       "  <tbody>\n",
       "    <tr>\n",
       "      <td>0</td>\n",
       "      <td>Chinese lilac</td>\n",
       "      <td>Syringa  chinensis Red Rothomagensis</td>\n",
       "      <td>Showy Fragrant Good Cut</td>\n",
       "      <td>Eastern Mediterranean</td>\n",
       "      <td>Full sun</td>\n",
       "      <td>Medium</td>\n",
       "      <td>Hedge</td>\n",
       "      <td>Low</td>\n",
       "    </tr>\n",
       "    <tr>\n",
       "      <td>1</td>\n",
       "      <td>common lilac</td>\n",
       "      <td>Syringa vulgaris Charles Joly</td>\n",
       "      <td>Showy Fragrant Good Cut</td>\n",
       "      <td>Northern China Manchuria Korea</td>\n",
       "      <td>Full sun</td>\n",
       "      <td>Medium</td>\n",
       "      <td>Hedge</td>\n",
       "      <td>Low</td>\n",
       "    </tr>\n",
       "    <tr>\n",
       "      <td>2</td>\n",
       "      <td>peony</td>\n",
       "      <td>Paeonia Zhu Sha Pan CINNABAR RED</td>\n",
       "      <td>Showy Fragrant Good Cut</td>\n",
       "      <td>Europe to western Asia</td>\n",
       "      <td>Full sun to part shade</td>\n",
       "      <td>Medium</td>\n",
       "      <td>Hedge Naturalize</td>\n",
       "      <td>Low</td>\n",
       "    </tr>\n",
       "    <tr>\n",
       "      <td>3</td>\n",
       "      <td>butterfly bush</td>\n",
       "      <td>Buddleja davidii Monum PETITE PLUM</td>\n",
       "      <td>Showy Fragrant Good Cut</td>\n",
       "      <td>Western Himalayas</td>\n",
       "      <td>Full sun</td>\n",
       "      <td>Medium</td>\n",
       "      <td>Naturalize</td>\n",
       "      <td>Low</td>\n",
       "    </tr>\n",
       "    <tr>\n",
       "      <td>4</td>\n",
       "      <td>butterfly bush</td>\n",
       "      <td>Buddleja davidii PIIBDII FIRST EDITIONS FUNKY ...</td>\n",
       "      <td>Showy Fragrant Good Cut</td>\n",
       "      <td>Southern Europe to Great Britain</td>\n",
       "      <td>Full sun</td>\n",
       "      <td>Medium</td>\n",
       "      <td>Naturalize</td>\n",
       "      <td>Low</td>\n",
       "    </tr>\n",
       "    <tr>\n",
       "      <td>5</td>\n",
       "      <td>blanket flower</td>\n",
       "      <td>Gaillardia Tizzy</td>\n",
       "      <td>Showy Fragrant Good Cut</td>\n",
       "      <td>China Japan</td>\n",
       "      <td>Full sun</td>\n",
       "      <td>Dry to medium</td>\n",
       "      <td>Naturalize</td>\n",
       "      <td>Low</td>\n",
       "    </tr>\n",
       "    <tr>\n",
       "      <td>6</td>\n",
       "      <td>coneflower</td>\n",
       "      <td>Echinacea Emily Saul BIG SKY AFTER MIDNIGHT</td>\n",
       "      <td>Showy Fragrant Good Cut Good Dried</td>\n",
       "      <td>Southcentral China Myanmar Taiwan Vietnam</td>\n",
       "      <td>Full sun to part shade</td>\n",
       "      <td>Dry to medium</td>\n",
       "      <td>Hedge Rain Garden</td>\n",
       "      <td>Low</td>\n",
       "    </tr>\n",
       "    <tr>\n",
       "      <td>7</td>\n",
       "      <td>miscellaneous tulip</td>\n",
       "      <td>Tulipa Little Beauty</td>\n",
       "      <td>Showy Fragrant Good Cut</td>\n",
       "      <td>Mediterranean Asia</td>\n",
       "      <td>Full sun</td>\n",
       "      <td>Medium</td>\n",
       "      <td>Annual Naturalize</td>\n",
       "      <td>Low</td>\n",
       "    </tr>\n",
       "    <tr>\n",
       "      <td>8</td>\n",
       "      <td>coneflower</td>\n",
       "      <td>Echinacea Meteor Red</td>\n",
       "      <td>Showy Fragrant Good Cut</td>\n",
       "      <td>Southeastern United States</td>\n",
       "      <td>Full sun to part shade</td>\n",
       "      <td>Dry to medium</td>\n",
       "      <td>Naturalize</td>\n",
       "      <td>Low</td>\n",
       "    </tr>\n",
       "    <tr>\n",
       "      <td>9</td>\n",
       "      <td>blanket flower</td>\n",
       "      <td>Gaillardia Frenzy</td>\n",
       "      <td>Showy Fragrant Good Cut</td>\n",
       "      <td>Canada to Mexico</td>\n",
       "      <td>Full sun</td>\n",
       "      <td>Dry to medium</td>\n",
       "      <td>Hedge</td>\n",
       "      <td>Low</td>\n",
       "    </tr>\n",
       "    <tr>\n",
       "      <td>10</td>\n",
       "      <td>lily</td>\n",
       "      <td>Lilium Barbaresco</td>\n",
       "      <td>Showy Fragrant Good Cut</td>\n",
       "      <td>Northern and central Europe eastern United St...</td>\n",
       "      <td>Full sun to part shade</td>\n",
       "      <td>Medium</td>\n",
       "      <td>Street Tree Flowering Tree</td>\n",
       "      <td>Low</td>\n",
       "    </tr>\n",
       "  </tbody>\n",
       "</table>\n",
       "</div>"
      ],
      "text/plain": [
       "             Common Name                                        Formal Name  \\\n",
       "0          Chinese lilac               Syringa  chinensis Red Rothomagensis   \n",
       "1           common lilac                      Syringa vulgaris Charles Joly   \n",
       "2                  peony                   Paeonia Zhu Sha Pan CINNABAR RED   \n",
       "3         butterfly bush                 Buddleja davidii Monum PETITE PLUM   \n",
       "4         butterfly bush  Buddleja davidii PIIBDII FIRST EDITIONS FUNKY ...   \n",
       "5         blanket flower                                   Gaillardia Tizzy   \n",
       "6             coneflower        Echinacea Emily Saul BIG SKY AFTER MIDNIGHT   \n",
       "7    miscellaneous tulip                               Tulipa Little Beauty   \n",
       "8             coneflower                               Echinacea Meteor Red   \n",
       "9         blanket flower                                  Gaillardia Frenzy   \n",
       "10                  lily                                  Lilium Barbaresco   \n",
       "\n",
       "                                 Flower  \\\n",
       "0               Showy Fragrant Good Cut   \n",
       "1               Showy Fragrant Good Cut   \n",
       "2               Showy Fragrant Good Cut   \n",
       "3               Showy Fragrant Good Cut   \n",
       "4               Showy Fragrant Good Cut   \n",
       "5               Showy Fragrant Good Cut   \n",
       "6    Showy Fragrant Good Cut Good Dried   \n",
       "7               Showy Fragrant Good Cut   \n",
       "8               Showy Fragrant Good Cut   \n",
       "9               Showy Fragrant Good Cut   \n",
       "10              Showy Fragrant Good Cut   \n",
       "\n",
       "                                         Native Range  \\\n",
       "0                               Eastern Mediterranean   \n",
       "1                      Northern China Manchuria Korea   \n",
       "2                              Europe to western Asia   \n",
       "3                                   Western Himalayas   \n",
       "4                    Southern Europe to Great Britain   \n",
       "5                                         China Japan   \n",
       "6           Southcentral China Myanmar Taiwan Vietnam   \n",
       "7                                  Mediterranean Asia   \n",
       "8                          Southeastern United States   \n",
       "9                                    Canada to Mexico   \n",
       "10   Northern and central Europe eastern United St...   \n",
       "\n",
       "                        Sun           Water                Suggested Use  \\\n",
       "0                  Full sun          Medium                        Hedge   \n",
       "1                  Full sun          Medium                        Hedge   \n",
       "2    Full sun to part shade          Medium             Hedge Naturalize   \n",
       "3                  Full sun          Medium                   Naturalize   \n",
       "4                  Full sun          Medium                   Naturalize   \n",
       "5                  Full sun   Dry to medium                   Naturalize   \n",
       "6    Full sun to part shade   Dry to medium            Hedge Rain Garden   \n",
       "7                  Full sun          Medium            Annual Naturalize   \n",
       "8    Full sun to part shade   Dry to medium                   Naturalize   \n",
       "9                  Full sun   Dry to medium                        Hedge   \n",
       "10   Full sun to part shade          Medium   Street Tree Flowering Tree   \n",
       "\n",
       "   Maintenance  \n",
       "0          Low  \n",
       "1          Low  \n",
       "2          Low  \n",
       "3          Low  \n",
       "4          Low  \n",
       "5          Low  \n",
       "6          Low  \n",
       "7          Low  \n",
       "8          Low  \n",
       "9          Low  \n",
       "10         Low  "
      ]
     },
     "execution_count": 75,
     "metadata": {},
     "output_type": "execute_result"
    }
   ],
   "source": [
    "display_data = q2_df[['Common Name', \n",
    "                      'Formal Name', \n",
    "                      'Flower', \n",
    "                      'Native Range', \n",
    "                      'Sun', \n",
    "                      'Water', \n",
    "                      'Suggested Use', \n",
    "                      'Maintenance']]\n",
    "display_data = display_data.reset_index(drop=True)\n",
    "display_data"
   ]
  }
 ],
 "metadata": {
  "kernelspec": {
   "display_name": "Python 3",
   "language": "python",
   "name": "python3"
  },
  "language_info": {
   "codemirror_mode": {
    "name": "ipython",
    "version": 3
   },
   "file_extension": ".py",
   "mimetype": "text/x-python",
   "name": "python",
   "nbconvert_exporter": "python",
   "pygments_lexer": "ipython3",
   "version": "3.7.4"
  }
 },
 "nbformat": 4,
 "nbformat_minor": 2
}
